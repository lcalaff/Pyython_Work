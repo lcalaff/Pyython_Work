{
 "cells": [
  {
   "cell_type": "raw",
   "id": "40ea89dd",
   "metadata": {
    "vscode": {
     "languageId": "raw"
    }
   },
   "source": [
    "---\n",
    "title: Intro to jupyter \n",
    "author: Lucas\n",
    "format:\n",
    "    html:\n",
    "        toc: true\n",
    "        code-fold: true \n",
    "theme: flatly \n",
    "---"
   ]
  },
  {
   "cell_type": "code",
   "execution_count": 2,
   "id": "56ef998e",
   "metadata": {},
   "outputs": [
    {
     "name": "stdout",
     "output_type": "stream",
     "text": [
      "Hello World\n",
      "tests\n"
     ]
    }
   ],
   "source": [
    "print(\"Hello World\")\n",
    "testing = \"tests\"\n",
    "print(testing)"
   ]
  },
  {
   "cell_type": "markdown",
   "id": "47cb6e18",
   "metadata": {},
   "source": [
    "This is a section of my notebook \n",
    "\n",
    "### Section 2\n",
    "\n",
    "#### subsection "
   ]
  },
  {
   "cell_type": "markdown",
   "id": "ae19b268",
   "metadata": {},
   "source": [
    "### Section 3\n",
    "\n",
    "#### sub section "
   ]
  }
 ],
 "metadata": {
  "language_info": {
   "name": "python"
  }
 },
 "nbformat": 4,
 "nbformat_minor": 5
}
