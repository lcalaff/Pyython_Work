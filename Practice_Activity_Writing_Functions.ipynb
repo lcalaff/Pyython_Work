{
  "cells": [
    {
      "cell_type": "code",
      "execution_count": 1,
      "metadata": {
        "colab": {
          "base_uri": "https://localhost:8080/"
        },
        "id": "ft_WYOPgkcCM",
        "outputId": "c2626d91-62ce-4018-ce5e-6a54c96636f6"
      },
      "outputs": [
        {
          "name": "stdout",
          "output_type": "stream",
          "text": [
            "Collecting palmerpenguins\n",
            "  Downloading palmerpenguins-0.1.4-py3-none-any.whl.metadata (2.0 kB)\n",
            "Requirement already satisfied: pandas in c:\\users\\ldcal\\anaconda3\\lib\\site-packages (from palmerpenguins) (2.2.3)\n",
            "Requirement already satisfied: numpy in c:\\users\\ldcal\\anaconda3\\lib\\site-packages (from palmerpenguins) (2.1.3)\n",
            "Requirement already satisfied: python-dateutil>=2.8.2 in c:\\users\\ldcal\\appdata\\local\\programs\\positron\\resources\\app\\extensions\\positron-python\\python_files\\lib\\ipykernel\\py3 (from pandas->palmerpenguins) (2.9.0.post0)\n",
            "Requirement already satisfied: pytz>=2020.1 in c:\\users\\ldcal\\anaconda3\\lib\\site-packages (from pandas->palmerpenguins) (2024.1)\n",
            "Requirement already satisfied: tzdata>=2022.7 in c:\\users\\ldcal\\anaconda3\\lib\\site-packages (from pandas->palmerpenguins) (2025.2)\n",
            "Requirement already satisfied: six>=1.5 in c:\\users\\ldcal\\appdata\\local\\programs\\positron\\resources\\app\\extensions\\positron-python\\python_files\\lib\\ipykernel\\py3 (from python-dateutil>=2.8.2->pandas->palmerpenguins) (1.17.0)\n",
            "Downloading palmerpenguins-0.1.4-py3-none-any.whl (17 kB)\n",
            "Installing collected packages: palmerpenguins\n",
            "Successfully installed palmerpenguins-0.1.4\n",
            "Note: you may need to restart the kernel to use updated packages.\n"
          ]
        }
      ],
      "source": [
        "pip install palmerpenguins"
      ]
    },
    {
      "cell_type": "code",
      "execution_count": 2,
      "metadata": {
        "id": "b69ul3XcoRQv"
      },
      "outputs": [],
      "source": [
        "import numpy as np\n",
        "import pandas as pd\n",
        "from sys import exit\n",
        "from palmerpenguins import load_penguins\n",
        "from plotnine import ggplot, aes, geom_point, geom_bar"
      ]
    },
    {
      "cell_type": "markdown",
      "metadata": {
        "id": "1Q8_a-5qociG"
      },
      "source": [
        "1. Fill in the necessary code to write a function called `times_seven()`. The function should take a single argument (`x`) and multiply the input by 7.\n",
        "  + This function should check that the argument is numeric.\n",
        "  + This function should also excitedly announce (print) *“I love sevens!”* if the argument to the function is a 7."
      ]
    },
    {
      "cell_type": "code",
      "execution_count": 7,
      "metadata": {
        "id": "l5CW0nuloYzy"
      },
      "outputs": [],
      "source": [
        "def times_seven(x):\n",
        "\n",
        "  if not isinstance(x, (int, float)):\n",
        "    exit(\"value is not numeric\")\n",
        "\n",
        "  if x == 7:\n",
        "    print(\"i love sevens!\")\n",
        "\n",
        "  return x*7"
      ]
    },
    {
      "cell_type": "markdown",
      "metadata": {
        "id": "nonjYlruotrq"
      },
      "source": [
        "2. Write and run some *unit tests* for your `times_seven` function.  What happens if the input to the function is `[1, 3, 5, 7]`?"
      ]
    },
    {
      "cell_type": "code",
      "execution_count": 19,
      "metadata": {},
      "outputs": [
        {
          "name": "stdout",
          "output_type": "stream",
          "text": [
            "7\n",
            "21\n",
            "35\n",
            "i love sevens!\n"
          ]
        },
        {
          "data": {
            "text/plain": [
              "49"
            ]
          },
          "execution_count": null,
          "metadata": {},
          "output_type": "execute_result"
        }
      ],
      "source": [
        "mylist = [1,3,5,7]\n",
        "print(times_seven(mylist[0]))\n",
        "print(times_seven(mylist[1]))\n",
        "print(times_seven(mylist[2]))\n",
        "times_seven(mylist[3])\n"
      ]
    },
    {
      "cell_type": "markdown",
      "metadata": {
        "id": "98sLHKBno39e"
      },
      "source": [
        "3. Consider the following function:"
      ]
    },
    {
      "cell_type": "code",
      "execution_count": 36,
      "metadata": {
        "id": "V1xGEwq-o5mh"
      },
      "outputs": [],
      "source": [
        "def add_or_subtract(first_num, second_num ,sub):\n",
        "\n",
        "  if (sub == \"add\"):\n",
        "    res = first_num + second_num\n",
        "  elif (sub == \"subtract\"):\n",
        "    res = first_num - second_num\n",
        "  else:\n",
        "    exit(\"Please choose `add` or `subtract` as the type.\")\n",
        "\n",
        "  return res"
      ]
    },
    {
      "cell_type": "markdown",
      "metadata": {
        "id": "KIzEYgR1pI0K"
      },
      "source": [
        "**Without running the code**, predict if the following will produce:\n",
        "\n",
        "a. 1\n",
        "\n",
        "b. -1\n",
        "\n",
        "c. 30\n",
        "\n",
        "d. An error defined by the function `add_or_subtract()`\n",
        "\n",
        "e. An error defined in a different function, which is called inside the `add_or_subtract()` function"
      ]
    },
    {
      "cell_type": "code",
      "execution_count": 41,
      "metadata": {
        "id": "AKN_fkigpHIS"
      },
      "outputs": [
        {
          "ename": "SystemExit",
          "evalue": "Please choose `add` or `subtract` as the type.",
          "output_type": "error",
          "traceback": [
            "An exception has occurred, use %tb to see the full traceback.\n",
            "\n",
            "\u001b[1;31mSystemExit\u001b[0m\u001b[1;31m:\u001b[0m Please choose `add` or `subtract` as the type.\n"
          ]
        }
      ],
      "source": [
        "aws = add_or_subtract(5, 6, \"subtract\")\n",
        "aws\n",
        "\n",
        "#prediction: the type will instantly apply to suntract overriding the function \n",
        "\n",
        "\n",
        "#add_or_subtract(\"orange\")\n",
        "#error will occur due to the first value not being an int d.\n",
        "add_or_subtract(5, 6, \"multiply\")\n",
        "\n",
        "#error defined in function "
      ]
    },
    {
      "cell_type": "markdown",
      "metadata": {
        "id": "Z0_cVjgdpOSr"
      },
      "source": [
        "4. Consider the following code:"
      ]
    },
    {
      "cell_type": "code",
      "execution_count": 43,
      "metadata": {
        "id": "G4ImmGWGpekK"
      },
      "outputs": [
        {
          "ename": "TypeError",
          "evalue": "add_or_subtract() missing 1 required positional argument: 'sub'",
          "output_type": "error",
          "traceback": [
            "\u001b[1;31m---------------------------------------------------------------------------\u001b[0m\n",
            "\u001b[1;31mTypeError\u001b[0m                                 Traceback (most recent call last)\n",
            "Cell \u001b[1;32mIn[43], line 6\u001b[0m\n",
            "\u001b[0;32m      2\u001b[0m second_num \u001b[38;5;241m=\u001b[39m \u001b[38;5;241m3\u001b[39m\n",
            "\u001b[0;32m      4\u001b[0m result \u001b[38;5;241m=\u001b[39m \u001b[38;5;241m8\u001b[39m\n",
            "\u001b[1;32m----> 6\u001b[0m result \u001b[38;5;241m=\u001b[39m \u001b[43madd_or_subtract\u001b[49m\u001b[43m(\u001b[49m\u001b[43mfirst_num\u001b[49m\u001b[43m,\u001b[49m\u001b[43m \u001b[49m\u001b[43msecond_num\u001b[49m\u001b[43m \u001b[49m\u001b[38;5;241;43m=\u001b[39;49m\u001b[43m \u001b[49m\u001b[38;5;241;43m4\u001b[39;49m\u001b[43m)\u001b[49m\n",
            "\u001b[0;32m      8\u001b[0m result_2 \u001b[38;5;241m=\u001b[39m add_or_subtract(first_num)\n",
            "\n",
            "\u001b[1;31mTypeError\u001b[0m: add_or_subtract() missing 1 required positional argument: 'sub'"
          ]
        }
      ],
      "source": [
        "first_num  = 5\n",
        "second_num = 3\n",
        "\n",
        "result = 8\n",
        "\n",
        "result = add_or_subtract(first_num, second_num = 4)\n",
        "\n",
        "result_2 = add_or_subtract(first_num)"
      ]
    },
    {
      "cell_type": "markdown",
      "metadata": {
        "id": "K0I7k29Qpjfo"
      },
      "source": [
        "\n",
        "In your Global Environment, what is the value of...\n",
        "\n",
        "a. `first_num` = 5\n",
        "\n",
        "b. `second_num` = 3\n",
        "\n",
        "c. `result` = 8 as the second result line wont work due to inproper parameters \n",
        "\n",
        "d. `result_2` = missing two parameters, second_val, \"add\" or \"subtract\" "
      ]
    }
  ],
  "metadata": {
    "colab": {
      "provenance": []
    },
    "kernelspec": {
      "display_name": "Python 3",
      "name": "python3"
    },
    "language_info": {
      "name": "python"
    }
  },
  "nbformat": 4,
  "nbformat_minor": 0
}
