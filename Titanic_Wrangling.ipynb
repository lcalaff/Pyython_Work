{
 "cells": [
  {
   "cell_type": "raw",
   "metadata": {
    "vscode": {
     "languageId": "raw"
    }
   },
   "source": [
    "---\n",
    "title: \"Titanic Wrangling\"\n",
    "author: \"Lucas Calaff\"\n",
    "jupyter: python3\n",
    "\n",
    "format:\n",
    "  html:\n",
    "    toc: true\n",
    "    code-fold: true\n",
    "    theme: darkly            \n",
    "    highlight-style: breezedark\n",
    "    embed-resources: true    \n",
    "\n",
    "execute:\n",
    "  enabled: true\n",
    "---"
   ]
  },
  {
   "cell_type": "markdown",
   "metadata": {
    "id": "QWpPySbzYEIV"
   },
   "source": [
    "\n",
    "In this practice activity you'll continue to work with the titanic dataset in ways that flex what you've learned about both data wrangling and data visualization."
   ]
  },
  {
   "cell_type": "code",
   "execution_count": 1,
   "metadata": {},
   "outputs": [],
   "source": [
    "import pandas as pd"
   ]
  },
  {
   "cell_type": "code",
   "execution_count": 2,
   "metadata": {
    "id": "Nr6w8bVCf_NM"
   },
   "outputs": [],
   "source": [
    "# Import the titanic dataset here\n",
    "data_dir = \"https://dlsun.github.io/pods/data/\"\n",
    "df_titanic = pd.read_csv(data_dir + \"titanic.csv\")"
   ]
  },
  {
   "cell_type": "markdown",
   "metadata": {
    "id": "9UgZD6VFYa96"
   },
   "source": [
    "## 1. Filter the data to include passengers only. Calculate the joint distribution (cross-tab) between a passenger's class and where they embarked."
   ]
  },
  {
   "cell_type": "code",
   "execution_count": 3,
   "metadata": {
    "id": "TBthOzDLgBif"
   },
   "outputs": [
    {
     "data": {
      "text/html": [
       "<div>\n",
       "<style scoped>\n",
       "    .dataframe tbody tr th:only-of-type {\n",
       "        vertical-align: middle;\n",
       "    }\n",
       "\n",
       "    .dataframe tbody tr th {\n",
       "        vertical-align: top;\n",
       "    }\n",
       "\n",
       "    .dataframe thead th {\n",
       "        text-align: right;\n",
       "    }\n",
       "</style>\n",
       "<table border=\"1\" class=\"dataframe\">\n",
       "  <thead>\n",
       "    <tr style=\"text-align: right;\">\n",
       "      <th>embarked</th>\n",
       "      <th>B</th>\n",
       "      <th>C</th>\n",
       "      <th>Q</th>\n",
       "      <th>S</th>\n",
       "    </tr>\n",
       "    <tr>\n",
       "      <th>class</th>\n",
       "      <th></th>\n",
       "      <th></th>\n",
       "      <th></th>\n",
       "      <th></th>\n",
       "    </tr>\n",
       "  </thead>\n",
       "  <tbody>\n",
       "    <tr>\n",
       "      <th>1st</th>\n",
       "      <td>0.002278</td>\n",
       "      <td>0.108580</td>\n",
       "      <td>0.002278</td>\n",
       "      <td>0.132878</td>\n",
       "    </tr>\n",
       "    <tr>\n",
       "      <th>2nd</th>\n",
       "      <td>0.004556</td>\n",
       "      <td>0.019742</td>\n",
       "      <td>0.005315</td>\n",
       "      <td>0.186029</td>\n",
       "    </tr>\n",
       "    <tr>\n",
       "      <th>3rd</th>\n",
       "      <td>0.000000</td>\n",
       "      <td>0.077449</td>\n",
       "      <td>0.085801</td>\n",
       "      <td>0.375095</td>\n",
       "    </tr>\n",
       "  </tbody>\n",
       "</table>\n",
       "</div>"
      ],
      "text/plain": [
       "embarked         B         C         Q         S\n",
       "class                                           \n",
       "1st       0.002278  0.108580  0.002278  0.132878\n",
       "2nd       0.004556  0.019742  0.005315  0.186029\n",
       "3rd       0.000000  0.077449  0.085801  0.375095"
      ]
     },
     "execution_count": 3,
     "metadata": {},
     "output_type": "execute_result"
    }
   ],
   "source": [
    "# Code here\n",
    "df_titanic[\"class\"].value_counts()\n",
    "\n",
    "df_titanic[\"type\"] = df_titanic[\"class\"].map({\n",
    "    \"1st\": \"passenger\",\n",
    "    \"2nd\": \"passenger\",\n",
    "    \"3rd\": \"passenger\",\n",
    "    \"victualling crew\": \"crew\",\n",
    "    \"engineering crew\": \"crew\",\n",
    "    \"deck crew\": \"crew\", \n",
    "    \"restaurant staff\": \"crew\"\n",
    "})\n",
    "\n",
    "passenger = df_titanic[\"type\"] == \"passenger\"\n",
    "df_titanic_passenger = df_titanic[passenger]\n",
    "\n",
    "pd.crosstab(df_titanic_passenger[\"class\"], df_titanic_passenger[\"embarked\"], normalize = True)"
   ]
  },
  {
   "cell_type": "markdown",
   "metadata": {
    "id": "3CRaJLSyYm4d"
   },
   "source": [
    "## 2. Using the joint distribution that calculated above, calculate the following:\n",
    "\n",
    "* the conditional distribution of their class given where they embarked\n",
    "* the conditional distribution of where they embarked given their class\n",
    "\n",
    "Use the conditional distributions that you calculate to answer the following quesitons:\n",
    "\n",
    "* What proportion of 3rd class passengers embarked at Southampton?\n",
    "* What proportion of Southampton passengers were in 3rd class?"
   ]
  },
  {
   "cell_type": "code",
   "execution_count": 4,
   "metadata": {
    "id": "TfTGidLIv1k0"
   },
   "outputs": [
    {
     "name": "stdout",
     "output_type": "stream",
     "text": [
      "class\n",
      "1st    0.191466\n",
      "2nd    0.268053\n",
      "3rd    0.540481\n",
      "Name: S, dtype: float64\n"
     ]
    },
    {
     "data": {
      "text/plain": [
       "class\n",
       "1st    0.540123\n",
       "2nd    0.862676\n",
       "3rd    0.696756\n",
       "Name: S, dtype: float64"
      ]
     },
     "execution_count": 4,
     "metadata": {},
     "output_type": "execute_result"
    }
   ],
   "source": [
    "# Code here\n",
    "#columns aka where they embarked in\n",
    "embarked_class_dist = pd.crosstab(df_titanic_passenger[\"class\"], df_titanic_passenger[\"embarked\"], normalize= \"columns\")\n",
    "\n",
    "#index aka what class they are \n",
    "class_embarked_dist = pd.crosstab(df_titanic_passenger[\"class\"], df_titanic_passenger[\"embarked\"], normalize = \"index\")\n",
    "\n",
    "#proportion of 3rd class in southampton\n",
    "\n",
    "print(embarked_class_dist[\"S\"])\n",
    "\n",
    "#proportation of southampton in 3rd class \n",
    "\n",
    "class_embarked_dist[\"S\"]"
   ]
  },
  {
   "cell_type": "markdown",
   "metadata": {
    "id": "pGUQeeh1ZRfz"
   },
   "source": [
    "## 3. Make a visualization showing the distribution of a passenger's class, given where they embarked.\n",
    "\n",
    "Discuss the pros and cons of using this visualization versus the distributions you calculated before, to answer the previous questions."
   ]
  },
  {
   "cell_type": "code",
   "execution_count": 5,
   "metadata": {
    "id": "PZ18WKJWA-xZ"
   },
   "outputs": [
    {
     "data": {
      "text/plain": [
       "<Axes: xlabel='class'>"
      ]
     },
     "execution_count": 5,
     "metadata": {},
     "output_type": "execute_result"
    },
    {
     "data": {
      "image/png": "[encoded data removed]",
      "text/plain": [
       "<Figure size 672x480 with 1 Axes>"
      ]
     },
     "metadata": {
      "image/png": {
       "height": 441,
       "width": 570
      }
     },
     "output_type": "display_data"
    }
   ],
   "source": [
    "# Code here\n",
    "embarked_class_dist.plot(kind = \"bar\")\n",
    " \n"
   ]
  }
 ],
 "metadata": {
  "colab": {
   "provenance": []
  },
  "kernelspec": {
   "display_name": "Python 3",
   "name": "python3"
  },
  "language_info": {
   "codemirror_mode": {
    "name": "ipython",
    "version": 3
   },
   "file_extension": ".py",
   "mimetype": "text/x-python",
   "name": "python",
   "nbconvert_exporter": "python",
   "pygments_lexer": "ipython3",
   "version": "3.13.5"
  }
 },
 "nbformat": 4,
 "nbformat_minor": 0
}
