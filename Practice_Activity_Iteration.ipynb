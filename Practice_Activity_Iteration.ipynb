{
  "cells": [
    {
      "cell_type": "markdown",
      "metadata": {
        "id": "8p1mF9p_njvq"
      },
      "source": [
        "0. Load the `penguins` dataset from the `palmerpenguins` library, as well as any other libraries you need.\n",
        "\n"
      ]
    },
    {
      "cell_type": "code",
      "execution_count": 50,
      "metadata": {
        "id": "B0wyLoBRngwh"
      },
      "outputs": [],
      "source": [
        "import palmerpenguins"
      ]
    },
    {
      "cell_type": "code",
      "execution_count": 51,
      "metadata": {},
      "outputs": [],
      "source": [
        "penguins = palmerpenguins.load_penguins()\n",
        "penguins = penguins.dropna()"
      ]
    },
    {
      "cell_type": "markdown",
      "metadata": {
        "id": "LUURcsjcnrA3"
      },
      "source": [
        "1. Write a function that takes in information about a penguin, and returns one of the following definitions:\n",
        "\n",
        "*   \"Big Mouth Billy\": Male penguins with bill length times bill depth greater than 800.\n",
        "*   \"Dainty Daisy\": Female penguins with flipper length less than 5% of body mass.\n",
        "*   \"Average Adelie:\" Any Adelie penguins that do not fall into either category.\n",
        "*   \"Other\": Any penguins that do not fall into any of the categories.\n",
        "\n"
      ]
    },
    {
      "cell_type": "code",
      "execution_count": 52,
      "metadata": {
        "id": "udKVPIJmpKG_"
      },
      "outputs": [],
      "source": [
        "def penguin_attributes(row):\n",
        "    if (row[\"sex\"] == \"male\") & ((row[\"bill_length_mm\"] * row[\"bill_depth_mm\"]) > 800):\n",
        "        return(\"big mouth billy\")\n",
        "    elif (row[\"sex\"] == \"female\") & ((row[\"flipper_length_mm\"] / row[\"body_mass_g\"]) < 0.05 ):\n",
        "        return(\"Dainty Daisy\")\n",
        "    elif(row[\"species\"] == \"Adelie\"):\n",
        "        return(\"average adelie\")\n",
        "    else:\n",
        "        return(\"other\")\n"
      ]
    },
    {
      "cell_type": "code",
      "execution_count": 53,
      "metadata": {},
      "outputs": [
        {
          "name": "stdout",
          "output_type": "stream",
          "text": [
            "big mouth billy\n"
          ]
        }
      ],
      "source": [
        "print(penguin_attributes(penguins.iloc[8]))"
      ]
    },
    {
      "cell_type": "markdown",
      "metadata": {
        "id": "L3cOiPwJo_q5"
      },
      "source": [
        "2. Use an iterable function to create a new variable called `category_name` that adds these labels."
      ]
    },
    {
      "cell_type": "code",
      "execution_count": 54,
      "metadata": {
        "id": "AJk_DHBDpKvV"
      },
      "outputs": [],
      "source": [
        "penguins[\"category_name\"] = penguins.apply(penguin_attributes, axis=1)"
      ]
    },
    {
      "cell_type": "markdown",
      "metadata": {
        "id": "wzjur3hzpLxr"
      },
      "source": [
        "3. Run the following code to find the counts for each type."
      ]
    },
    {
      "cell_type": "code",
      "execution_count": 55,
      "metadata": {
        "id": "iDHDAKOXpPOm"
      },
      "outputs": [
        {
          "data": {
            "text/plain": [
              "category_name\n",
              "average adelie     121\n",
              "other               79\n",
              "big mouth billy     71\n",
              "Dainty Daisy        62\n",
              "Name: count, dtype: int64"
            ]
          },
          "execution_count": null,
          "metadata": {},
          "output_type": "execute_result"
        }
      ],
      "source": [
        "penguins.value_counts(\"category_name\")"
      ]
    }
  ],
  "metadata": {
    "colab": {
      "provenance": []
    },
    "kernelspec": {
      "display_name": "Python 3",
      "name": "python3"
    },
    "language_info": {
      "name": "python"
    }
  },
  "nbformat": 4,
  "nbformat_minor": 0
}
