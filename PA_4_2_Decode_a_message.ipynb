{
  "cells": [
    {
      "cell_type": "markdown",
      "metadata": {
        "id": "kPj76X_FP2uq"
      },
      "source": [
        "## Setup\n",
        "\n",
        "Run the code below to load the scrambled message:\n"
      ]
    },
    {
      "cell_type": "code",
      "execution_count": 1,
      "metadata": {
        "id": "YwkYMR2qP2ur"
      },
      "outputs": [],
      "source": [
        "import pandas as pd\n",
        "import re\n",
        "\n",
        "message = pd.read_csv(\"https://www.dropbox.com/s/lgpn3vmksk3ssdo/scrambled_message.txt?dl=1\")['Word']"
      ]
    },
    {
      "cell_type": "code",
      "execution_count": 2,
      "metadata": {
        "colab": {
          "base_uri": "https://localhost:8080/"
        },
        "id": "rqykaCOxF1Z9",
        "outputId": "78651d97-c46b-4c24-b5e9-f67ae6a0ea1c"
      },
      "outputs": [
        {
          "data": {
            "text/plain": [
              "0                    Koila!\n",
              "1                     In   \n",
              "2                     kiew,\n",
              "3                         a\n",
              "4                 humble   \n",
              "               ...         \n",
              "122                     you\n",
              "123                 mabugh.\n",
              "124              ughhh?call\n",
              "125        meugh.ughhhh!   \n",
              "126                      K.\n",
              "Name: Word, Length: 127, dtype: object"
            ]
          },
          "execution_count": null,
          "metadata": {},
          "output_type": "execute_result"
        }
      ],
      "source": [
        "message"
      ]
    },
    {
      "cell_type": "markdown",
      "metadata": {
        "id": "cI8ZE3LAP2us"
      },
      "source": [
        "In this activity, a \"word\" refers to any set of characters with no white space, even though they are not truly an English word.  That is, even though many of elements of the scrambled message vector are nonsense, and some have punctuation, you can consider each element to be a \"word\".\n",
        "\n",
        "Beware!  The object named `message` is a **pandas Series** of strings.  If you want to use functions that expect a string, rather than a series, remember `.apply()` and `lambda` functions.\n",
        "\n"
      ]
    },
    {
      "cell_type": "markdown",
      "metadata": {
        "id": "dYISAD8uQLAy"
      },
      "source": [
        "\n",
        "## Warm-up exercises\n",
        "\n",
        "1. How many characters are in the scrambled message?\n",
        "2. How many of these characters are white space?\n",
        "3. How many words are in the scrambled message?\n",
        "4. Show all the punctuation marks in the scrambled message.\n",
        "5. Print out, in all capitals, the longest word in the scrambled message.\n",
        "6. Print out every piece of a word that starts with the letter \"m\" and ends with the letter \"z\" in the scrambled message."
      ]
    },
    {
      "cell_type": "code",
      "execution_count": 16,
      "metadata": {
        "id": "6vB1tbjiQNvE"
      },
      "outputs": [
        {
          "name": "stdout",
          "output_type": "stream",
          "text": [
            "KAUDEVILLIANUGH?AOGHAJDBN\n",
            "              Koila!               In                  kiew,                   a           humble   kaudevillianugh?aoghajdbn         kezeran,                casz            kicariouslb               as                   bozh           kiczim              ughhh!and             killain               bb                 zhe           kicissizudes            ughhh!of               faze.         Thisughhhh!          kisage,           noughhhh!         ughhh?mereugh?           kenaar           ughhh?ofugh?       ughhh?kanizy,         ughhh?is                   a             keszige                     of              zhe                    kox     ughhh!populi                 now                kacanz,    kanished.ugh?               However,                zhis            kalorous       kisizazion                     of                a              bygone               kexazion           szands              kivified,        ughhh!and                hasugh.               kowed           zoughhhh!            kanquish            zhese              kenalugh?          andughhhh!   ughhh!kirulenz             kermin,                    kan         guarding            kiceugh.                    and     kouchsafingugh?                 zhe        kiolenzlb                kicious           ughhh?and       koraciousugh?           kiolazion                  of       kolizion.ugh?       ughhh?Theugh.             onlb                kerdicz              isugh.          kengeance;                   a  ughhh?kendezza,            heldughhhh!            ughhh!as                   a              kozive                 noz                  in            kain,             forugh.                    zhe            kalue             andugh?            keracizb                 ofugh.                such               shall           ughhh?one          dabugh.              kindicaze          zheughhhh!  kigilanzughhhh!                 and                    zhe        kirzuous.              Kerilb                   zhis         kichyssoise            ughhh!of      ughhh!kerbiage               kaars         moszugh?            kerbose,                     so                 lez                  me           simplb             addughhhh!             zhaz                izs                     mb       ughhh?kerb                good          honourugh.              zoughhhh!          ughhh!maaz                 you           ughhh!and                 you             mabugh.          ughhh?call    meugh.ughhhh!                     K.\n"
          ]
        },
        {
          "data": {
            "text/plain": [
              "['mosz', 'maaz']"
            ]
          },
          "execution_count": null,
          "metadata": {},
          "output_type": "execute_result"
        }
      ],
      "source": [
        "#1\n",
        "\n",
        "all_val = list(map(lambda x: re.findall(\".\",x), message))\n",
        "crt = [len(x) for x in all_val]\n",
        "crt_count = sum(crt)\n",
        "\n",
        "#2\n",
        "space = list(map(lambda x: re.findall(r\" \", x), message))\n",
        "space_count =sum([len(x) for x in space])\n",
        "\n",
        "#3\n",
        "wrd = list(map(lambda x: re.findall(r\"[A-Za-z]+(?:[-'][A-Za-z]+)*\", x), message))\n",
        "wrd_count = sum([len(x) for x in wrd])\n",
        "\n",
        "#4\n",
        "punc = list(map(lambda x: re.findall(r\"\\b\", x) , message))\n",
        "punc_count = sum([len(x) for x in punc])\n",
        "\n",
        "#5\n",
        "print((max(message)).upper())\n",
        "#6\n",
        "string = \"\".join(message)\n",
        "print(string)\n",
        "re.findall(r\"m\\w+z\", string)"
      ]
    },
    {
      "cell_type": "markdown",
      "metadata": {
        "id": "l3iJnnCJQOh7"
      },
      "source": [
        "\n",
        "\n",
        "## Decode a message\n",
        "\n",
        "Complete the following steps to decode the message.  \n",
        "\n",
        "1. Remove any spaces before or after each word.\n",
        "2. Any time you see the word \"ugh\", with any number of h's, followed by a punctuation mark, delete this.\n",
        "3. No word should be longer than 16 characters. Drop all extra characters beyond 13 off the end of each word.\n",
        "4. Replace all instances of exactly 2 a's with exactly 2 e's.\n",
        "5. Replace all z's with t's.\n",
        "6. Every word that ends in b, change that to a y.  *Hint: look out for punctuation!*\n",
        "7. Every word that starts with k, change that to a v.  *Hint: look out for capitalization!*\n",
        "8. Use `.join()` to recombine all your words into a message.\n",
        "9. Find the movie this quote is from."
      ]
    },
    {
      "cell_type": "code",
      "execution_count": null,
      "metadata": {
        "id": "RRfjUzxMQQ5j"
      },
      "outputs": [],
      "source": [
        "#1 removing spaces before and after each word \n",
        "spaces_removed = list(map(lambda x: x.strip(),message))"
      ]
    },
    {
      "cell_type": "code",
      "execution_count": 49,
      "metadata": {},
      "outputs": [],
      "source": [
        "#2 deleting ughhhhhhhhh\n",
        "pattern = re.compile(r\"(?i)ugh+[^\\w\\s]\") \n",
        "\n",
        "ugh_removed = [re.sub(pattern, \"\", x) for x in spaces_removed]"
      ]
    },
    {
      "cell_type": "code",
      "execution_count": 53,
      "metadata": {},
      "outputs": [],
      "source": [
        "#3 deleting chracters longer than 16\n",
        "cutoff = re.compile(r\"(?i).{13,}\")\n",
        "\n",
        "longer_strings_removed = [re.sub(cutoff, x[0:13], x) for x in ugh_removed]"
      ]
    },
    {
      "cell_type": "code",
      "execution_count": 57,
      "metadata": {},
      "outputs": [
        {
          "data": {
            "text/plain": [
              "'keneer'"
            ]
          },
          "execution_count": null,
          "metadata": {},
          "output_type": "execute_result"
        }
      ],
      "source": [
        "#4 Replace instances of 2 a's with 2 e's\n",
        "aa = re.compile(r\"(?i)aa\")\n",
        "\n",
        "aa_replaced = [re.sub(aa, \"ee\", x) for x in longer_strings_removed]\n",
        "aa_replaced[23]"
      ]
    },
    {
      "cell_type": "code",
      "execution_count": 61,
      "metadata": {},
      "outputs": [],
      "source": [
        "#5 replace all z's with t \n",
        "z = re.compile(r\"(?i)z\")\n",
        "z_replace = [re.sub(z, \"t\", x) for x in aa_replaced]"
      ]
    },
    {
      "cell_type": "code",
      "execution_count": 64,
      "metadata": {},
      "outputs": [],
      "source": [
        "#6 ends with b change to y\n",
        "b_replace = [re.sub(r'(?i)b\\b', 'y', x) for x in z_replace]"
      ]
    },
    {
      "cell_type": "code",
      "execution_count": 65,
      "metadata": {},
      "outputs": [],
      "source": [
        "#7 every word that stars with k replace to v\n",
        "k_replace = [re.sub(r'(?i)\\bk', 'v', x)for x in b_replace]"
      ]
    },
    {
      "cell_type": "code",
      "execution_count": 71,
      "metadata": {},
      "outputs": [],
      "source": [
        "#8 joinging all the strings \n",
        "decoded = \" \".join(k_replace)"
      ]
    },
    {
      "cell_type": "code",
      "execution_count": null,
      "metadata": {},
      "outputs": [
        {
          "name": "stdout",
          "output_type": "stream",
          "text": [
            "voila! In view, a humble vaudevilliana veteran, cast vicariously as both victim and villain by the vicissitudes of fate. This visage, no mere veneer of vanity, is a vestige of the vox populi now vacant, vanished. However, this valorous visitation of a bygone vexation stands vivified, and has vowed to vanquish these venal and virulent vermin, van guarding vice and vouchsafing the violently vicious and voracious violation of volition. The only verdict is vengeance; a vendetta, held as a votive not in vain, for the value and veracity of such shall one day vindicate the vigilant and the virtuous. verily this vichyssoise of verbiage veers most verbose, so let me simply add that its my very good honour to meet you and you may call me v.\n"
          ]
        }
      ],
      "source": [
        "print(decoded)\n",
        "#this is from v for vendetta"
      ]
    }
  ],
  "metadata": {
    "colab": {
      "provenance": []
    },
    "kernelspec": {
      "display_name": "Python 3",
      "language": "python",
      "name": "python3"
    },
    "language_info": {
      "name": "python"
    }
  },
  "nbformat": 4,
  "nbformat_minor": 0
}
